{
 "cells": [
  {
   "cell_type": "code",
   "execution_count": null,
   "id": "912e6f4c",
   "metadata": {},
   "outputs": [],
   "source": [
    "import numpy as np\n",
    "from scipy import stats\n",
    "import pandas as pd\n",
    "import matplotlib.pyplot as plt\n",
    "import statsmodels.api as sm\n",
    "from statsmodels.tsa.stattools import adfuller\n",
    "from statsmodels.tsa.seasonal import seasonal_decompose\n",
    "from statsmodels.tsa.arima_model import ARIMA\n",
    "import warnings\n",
    "warnings.filterwarnings('ignore')\n",
    "from sklearn.metrics import mean_squared_error, mean_absolute_error\n",
    "import math\n",
    "from statsmodels.graphics.tsaplots import plot_acf,plot_pacf\n",
    "from statsmodels.graphics.api import qqplot\n",
    "%matplotlib inline"
   ]
  },
  {
   "cell_type": "code",
   "execution_count": null,
   "id": "582b9af8",
   "metadata": {},
   "outputs": [],
   "source": [
    "df = pd.read_csv(\"Cryogenic Storage Tank Sales data.xlsx - Cryogenic sales data.csv\")\n",
    "df.head()"
   ]
  },
  {
   "cell_type": "code",
   "execution_count": null,
   "id": "2cf2d7b0",
   "metadata": {},
   "outputs": [],
   "source": [
    "df.rename(columns={\"Sales in Thousands\":\"sales\"},inplace=True)\n",
    "df.rename(columns={\"Ship Date\":\"Date\"},inplace=True)"
   ]
  },
  {
   "cell_type": "code",
   "execution_count": null,
   "id": "b11a440d",
   "metadata": {},
   "outputs": [],
   "source": [
    "df1 = df[[\"sales\",'Date']]\n",
    "df1.info()"
   ]
  },
  {
   "cell_type": "code",
   "execution_count": null,
   "id": "19736cc7",
   "metadata": {},
   "outputs": [],
   "source": [
    "df1.Date = pd.to_datetime(df1.Date)"
   ]
  },
  {
   "cell_type": "code",
   "execution_count": null,
   "id": "92128192",
   "metadata": {},
   "outputs": [],
   "source": [
    "df1.info()"
   ]
  },
  {
   "cell_type": "code",
   "execution_count": null,
   "id": "d7cd2cc2",
   "metadata": {},
   "outputs": [],
   "source": [
    "df1"
   ]
  },
  {
   "cell_type": "code",
   "execution_count": null,
   "id": "db7edc1f",
   "metadata": {},
   "outputs": [],
   "source": [
    "df1 = df1.set_index(\"Date\")"
   ]
  },
  {
   "cell_type": "code",
   "execution_count": null,
   "id": "fa773910",
   "metadata": {},
   "outputs": [],
   "source": [
    "df1"
   ]
  },
  {
   "cell_type": "code",
   "execution_count": null,
   "id": "d6b84035",
   "metadata": {},
   "outputs": [],
   "source": [
    "import matplotlib.pyplot as plt\n",
    "plt.plot(df1['sales'])"
   ]
  },
  {
   "cell_type": "code",
   "execution_count": null,
   "id": "0bd1eb57",
   "metadata": {},
   "outputs": [],
   "source": [
    "sales_by_month = df1.groupby('Date')['sales'].sum()\n",
    "sales_by_month.shape"
   ]
  },
  {
   "cell_type": "code",
   "execution_count": null,
   "id": "ea953b25",
   "metadata": {},
   "outputs": [],
   "source": [
    "sales_by_month_df = sales_by_month.reset_index()\n",
    "\n",
    "# Rename the columns\n",
    "sales_by_month_df.columns = ['Date', 'sales']\n",
    "\n",
    "print(type(sales_by_month_df))"
   ]
  },
  {
   "cell_type": "code",
   "execution_count": null,
   "id": "2126b3b8",
   "metadata": {},
   "outputs": [],
   "source": [
    "sales_by_month_df = sales_by_month_df.set_index(\"Date\")"
   ]
  },
  {
   "cell_type": "code",
   "execution_count": null,
   "id": "365043f2",
   "metadata": {},
   "outputs": [],
   "source": [
    "plt.plot(sales_by_month_df['sales'])"
   ]
  },
  {
   "cell_type": "code",
   "execution_count": null,
   "id": "fd0722dd",
   "metadata": {},
   "outputs": [],
   "source": [
    "# plotting sales \n",
    "plt.style.use('ggplot')\n",
    "plt.figure(figsize=(18,8)) \n",
    "plt.grid(True) \n",
    "plt.xlabel('month', fontsize = 20) \n",
    "plt.xticks(fontsize = 15)\n",
    "plt.ylabel('sales', fontsize = 20)\n",
    "plt.yticks(fontsize = 15) \n",
    "plt.plot(sales_by_month_df['sales'], linewidth = 3, color = 'blue')\n",
    "plt.title('Sales by Year and Month', fontsize = 30)\n",
    "plt.show()"
   ]
  },
  {
   "cell_type": "code",
   "execution_count": null,
   "id": "844c07d2",
   "metadata": {},
   "outputs": [],
   "source": [
    "import seaborn as sns\n",
    "sns.distplot(sales_by_month_df['sales'])"
   ]
  },
  {
   "cell_type": "code",
   "execution_count": null,
   "id": "f7887a6c",
   "metadata": {},
   "outputs": [],
   "source": [
    "df_sales = sales_by_month_df['sales'] \n",
    "df_sales.plot(kind='kde',figsize = (18,8), linewidth= 3) \n",
    "plt.xticks(fontsize = 15)\n",
    "plt.grid(\"both\")\n",
    "plt.ylabel('Density', fontsize = 20)\n",
    "plt.yticks(fontsize = 15)\n",
    "plt.show()"
   ]
  },
  {
   "cell_type": "code",
   "execution_count": null,
   "id": "09d43219",
   "metadata": {},
   "outputs": [],
   "source": [
    "np.mean(sales_by_month_df['sales'].head(10))"
   ]
  },
  {
   "cell_type": "code",
   "execution_count": null,
   "id": "f8031611",
   "metadata": {},
   "outputs": [],
   "source": [
    "plt.plot(sales_by_month_df['sales'])"
   ]
  },
  {
   "cell_type": "code",
   "execution_count": null,
   "id": "ac96136e",
   "metadata": {},
   "outputs": [],
   "source": [
    "plt.plot(sales_by_month_df['sales'].rolling(3).mean())"
   ]
  },
  {
   "cell_type": "code",
   "execution_count": null,
   "id": "4d318e8e",
   "metadata": {},
   "outputs": [],
   "source": [
    "plt.plot(sales_by_month_df['sales'].rolling(365).mean())"
   ]
  },
  {
   "cell_type": "code",
   "execution_count": null,
   "id": "9a189a01",
   "metadata": {},
   "outputs": [],
   "source": [
    "plt.plot(sales_by_month_df['sales'].rolling(365).std())"
   ]
  },
  {
   "cell_type": "code",
   "execution_count": null,
   "id": "a8ddcb29",
   "metadata": {},
   "outputs": [],
   "source": [
    "adfuller(sales_by_month_df['sales'],autolag='AIC')"
   ]
  },
  {
   "cell_type": "code",
   "execution_count": null,
   "id": "1c02c275",
   "metadata": {},
   "outputs": [],
   "source": [
    "#Test for staionarity\n",
    "def test_stationarity(timeseries):\n",
    "    # Determing rolling statistics\n",
    "    rolmean = timeseries.rolling(12).mean() # rolling mean\n",
    "    rolstd = timeseries.rolling(12).std() # rolling standard deviation\n",
    "    # Plot rolling statistics:\n",
    "    plt.figure(figsize = (18,8))\n",
    "    plt.grid('both')\n",
    "    plt.plot(timeseries, color='blue',label='Original', linewidth = 3)\n",
    "    plt.plot(rolmean, color='red', label='Rolling Mean',linewidth = 3)\n",
    "    plt.plot(rolstd, color='black', label = 'Rolling Std',linewidth = 4)\n",
    "    plt.legend(loc='best', fontsize = 20, shadow=True,facecolor='lightpink',edgecolor = 'k')\n",
    "    plt.title('Rolling Mean and Standard Deviation', fontsize = 25)\n",
    "    plt.xticks(fontsize = 15)\n",
    "    plt.yticks(fontsize = 15)\n",
    "    plt.show(block=False)\n",
    "    \n",
    "    print(\"Results of dickey fuller test\")\n",
    "    adft = adfuller(timeseries,autolag='AIC')\n",
    "    # output for dft will give us without defining what the values are.\n",
    "    # hence we manually write what values does it explains using a for loop\n",
    "    output = pd.Series(adft[0:4],index=['Test Statistics','p-value','No. of lags used','Number of observations used'])\n",
    "    for key,values in adft[4].items():\n",
    "        output['critical value (%s)'%key] =  values\n",
    "    print(output)"
   ]
  },
  {
   "cell_type": "code",
   "execution_count": null,
   "id": "5a0d53b2",
   "metadata": {},
   "outputs": [],
   "source": [
    "test_stationarity(sales_by_month_df['sales'])"
   ]
  },
  {
   "cell_type": "code",
   "execution_count": null,
   "id": "a04f4cb7",
   "metadata": {},
   "outputs": [],
   "source": [
    "df_saless = sales_by_month_df['sales']"
   ]
  },
  {
   "cell_type": "code",
   "execution_count": null,
   "id": "bfc4c3dc",
   "metadata": {},
   "outputs": [],
   "source": [
    "df_saless.diff(1)"
   ]
  },
  {
   "cell_type": "code",
   "execution_count": null,
   "id": "76600372",
   "metadata": {},
   "outputs": [],
   "source": [
    "df_sales_diff_1 = df_saless.diff(1)"
   ]
  },
  {
   "cell_type": "code",
   "execution_count": null,
   "id": "a4c4d9db",
   "metadata": {},
   "outputs": [],
   "source": [
    "df_sales_diff_1.dropna(inplace=True)"
   ]
  },
  {
   "cell_type": "code",
   "execution_count": null,
   "id": "8d2e2206",
   "metadata": {},
   "outputs": [],
   "source": [
    "test_stationarity(df_sales_diff_1)"
   ]
  },
  {
   "cell_type": "code",
   "execution_count": null,
   "id": "3f85e14b",
   "metadata": {},
   "outputs": [],
   "source": [
    "result=seasonal_decompose(sales_by_month_df[[\"sales\"]],model='additive',period=356)"
   ]
  },
  {
   "cell_type": "code",
   "execution_count": null,
   "id": "8fe0dcd6",
   "metadata": {},
   "outputs": [],
   "source": [
    "fig=plt.figure(figsize=(20,10))\n",
    "fig=result.plot()\n",
    "fig.set_size_inches(17,10)"
   ]
  },
  {
   "cell_type": "code",
   "execution_count": null,
   "id": "c4af9eb5",
   "metadata": {},
   "outputs": [],
   "source": [
    "result1=seasonal_decompose(sales_by_month_df[[\"sales\"]],model='multiplicative',period=365)"
   ]
  },
  {
   "cell_type": "code",
   "execution_count": null,
   "id": "321975e7",
   "metadata": {},
   "outputs": [],
   "source": [
    "fig=plt.figure(figsize=(20,10))\n",
    "fig=result1.plot()\n",
    "fig.set_size_inches(17,10)"
   ]
  },
  {
   "cell_type": "code",
   "execution_count": null,
   "id": "58c1400f",
   "metadata": {},
   "outputs": [],
   "source": [
    "train_data=sales_by_month_df[0:1000]\n",
    "train_data.shape"
   ]
  },
  {
   "cell_type": "code",
   "execution_count": null,
   "id": "fad2c006",
   "metadata": {},
   "outputs": [],
   "source": [
    "test_data=sales_by_month_df[1000:]\n",
    "test_data.shape"
   ]
  },
  {
   "cell_type": "code",
   "execution_count": null,
   "id": "388a68a5",
   "metadata": {},
   "outputs": [],
   "source": [
    "train_data=train_data\n",
    "test_data=test_data\n",
    "plt.figure(figsize=(18,8))\n",
    "plt.grid(True)\n",
    "plt.xlabel('Months', fontsize = 20)\n",
    "plt.ylabel('Sales', fontsize = 20)\n",
    "plt.xticks(fontsize = 15)\n",
    "plt.xticks(fontsize = 15)\n",
    "plt.plot(train_data, 'green', label='Train data', linewidth = 5)\n",
    "plt.plot(test_data, 'blue', label='Test data', linewidth = 5)\n",
    "plt.legend(fontsize = 20, shadow=True,facecolor='lightpink',edgecolor = 'k')"
   ]
  },
  {
   "cell_type": "code",
   "execution_count": null,
   "id": "4534442f",
   "metadata": {},
   "outputs": [],
   "source": [
    "sales_data = sales_by_month_df['sales'].values\n",
    "# show plots in the notebook\n",
    "%matplotlib inline\n",
    "fig = plt.figure(figsize=(12,8))\n",
    "ax1 = fig.add_subplot(211)\n",
    "fig = sm.graphics.tsa.plot_acf(sales_data.squeeze(), lags=100, ax=ax1)\n",
    "ax2 = fig.add_subplot(212)\n",
    "fig = sm.graphics.tsa.plot_pacf(sales_data, lags=100, ax=ax2)"
   ]
  },
  {
   "cell_type": "code",
   "execution_count": null,
   "id": "3f75c6c3",
   "metadata": {},
   "outputs": [],
   "source": [
    "fig = plt.figure(figsize=(12,12))\n",
    "ax1 = fig.add_subplot(211)#function\n",
    "fig = plot_acf(df_sales_diff_1, ax=ax1)\n",
    "ax2 = fig.add_subplot(212)\n",
    "fig = plot_pacf(df_sales_diff_1, ax=ax2)"
   ]
  },
  {
   "cell_type": "code",
   "execution_count": null,
   "id": "b82f6bb8",
   "metadata": {},
   "outputs": [],
   "source": [
    "import pandas as pd\n",
    "from statsmodels.tsa.arima.model import ARIMA\n",
    "from matplotlib import pyplot as plt\n",
    "from pandas import read_csv\n",
    "from pandas import datetime \n",
    "from matplotlib import pyplot\n",
    "from sklearn.metrics import mean_squared_error,mean_absolute_error\n",
    "from math import sqrt\n",
    "predictions = list()\n",
    "conf_list = list()\n",
    "model1 = ARIMA(train_data['sales'], order=(2,1,2))\n",
    "model_fit1 = model1.fit()\n",
    "forecast_length = len(test_data)\n",
    "output1= model_fit1.forecast(steps=forecast_length)\n",
    "output1"
   ]
  },
  {
   "cell_type": "code",
   "execution_count": null,
   "id": "43993132",
   "metadata": {},
   "outputs": [],
   "source": [
    "summary = model_fit1.summary()"
   ]
  },
  {
   "cell_type": "code",
   "execution_count": null,
   "id": "573bf79a",
   "metadata": {},
   "outputs": [],
   "source": [
    "summary"
   ]
  },
  {
   "cell_type": "code",
   "execution_count": null,
   "id": "e1e10d3c",
   "metadata": {},
   "outputs": [],
   "source": [
    "y_true = test_data['sales'].values\n",
    "y_true.shape"
   ]
  },
  {
   "cell_type": "code",
   "execution_count": null,
   "id": "f2755899",
   "metadata": {},
   "outputs": [],
   "source": [
    "y_pred = output1[:forecast_length]\n",
    "y_pred.shape"
   ]
  },
  {
   "cell_type": "code",
   "execution_count": null,
   "id": "986baea8",
   "metadata": {},
   "outputs": [],
   "source": [
    "from sklearn.metrics import mean_squared_error,mean_absolute_error\n",
    "from math import sqrt\n",
    "mse = mean_squared_error(y_true, y_pred)\n",
    "rmse = np.sqrt(mse)\n",
    "print(f'Mean Squared Error: {mse}')\n",
    "print(f\"Root Mean Squared Error: {rmse}\")"
   ]
  },
  {
   "cell_type": "code",
   "execution_count": null,
   "id": "754d2a5a",
   "metadata": {},
   "outputs": [],
   "source": [
    "train_data_s = df_sales_diff_1[0:1000]\n",
    "test_data_s = df_sales_diff_1[1000:]\n",
    "print(test_data_s.shape)"
   ]
  },
  {
   "cell_type": "code",
   "execution_count": null,
   "id": "6e9f3d92",
   "metadata": {},
   "outputs": [],
   "source": [
    "import statsmodels.api as sm\n",
    "\n",
    "model = sm.tsa.statespace.SARIMAX(train_data_s, order=(2, 1, 2), seasonal_order=(5, 0, 0, 3))\n",
    "model_fit = model.fit()\n",
    "forecast_length = len(test_data_s)\n",
    "forecast = model_fit.forecast(steps=forecast_length)\n",
    "\n",
    "print(\"RMSE of SARIMA Model:\",np.sqrt(mean_squared_error(test_data_s,forecast)))"
   ]
  },
  {
   "cell_type": "code",
   "execution_count": null,
   "id": "cd135b08",
   "metadata": {},
   "outputs": [],
   "source": [
    "forecast"
   ]
  },
  {
   "cell_type": "code",
   "execution_count": null,
   "id": "68fc36d2",
   "metadata": {},
   "outputs": [],
   "source": [
    "summary1 = model_fit.summary()\n",
    "summary1"
   ]
  },
  {
   "cell_type": "code",
   "execution_count": null,
   "id": "dd7739a6",
   "metadata": {},
   "outputs": [],
   "source": [
    "y_true = test_data_s.values\n",
    "y_true.shape"
   ]
  },
  {
   "cell_type": "code",
   "execution_count": null,
   "id": "fb6b590f",
   "metadata": {},
   "outputs": [],
   "source": [
    "y_pred = forecast[:forecast_length]\n",
    "y_pred.shape"
   ]
  },
  {
   "cell_type": "code",
   "execution_count": null,
   "id": "1b91dad7",
   "metadata": {},
   "outputs": [],
   "source": [
    "from sklearn.metrics import mean_squared_error,mean_absolute_error\n",
    "from math import sqrt\n",
    "mse = mean_squared_error(y_true, y_pred)\n",
    "rmse = np.sqrt(mse)\n",
    "print(f'Mean Squared Error: {mse}')\n",
    "print(f\"Root Mean Squared Error: {rmse}\")"
   ]
  },
  {
   "cell_type": "code",
   "execution_count": null,
   "id": "00000105",
   "metadata": {},
   "outputs": [],
   "source": [
    "from pmdarima import auto_arima\n",
    "model_autoArima = auto_arima(train_data,start_p=1,start_q = 1,test='adf',max_p=3,max_q=3,m=12,d=None,seasonal=True,start_P=1,D=1,error_action='ignore',suppress_warnings=True,stepwise=True)"
   ]
  },
  {
   "cell_type": "code",
   "execution_count": null,
   "id": "3c8f8327",
   "metadata": {},
   "outputs": [],
   "source": [
    "forecast_length = 333  \n",
    "forecast_auto = model_autoArima.predict(n_periods=forecast_length)\n",
    "print(\"Forecasted values:\", forecast)\n",
    "mse = mean_squared_error(test_data[:forecast_length], forecast)\n",
    "rmse = np.sqrt(mse)\n",
    "print(f'Mean Squared Error: {mse}')\n",
    "print(f\"Root Mean Squared Error: {rmse}\")"
   ]
  },
  {
   "cell_type": "code",
   "execution_count": null,
   "id": "c9aa2c2e",
   "metadata": {},
   "outputs": [],
   "source": [
    "auto_model.plot_diagnostics(figsize=(15,8))\n",
    "plt.show()"
   ]
  },
  {
   "cell_type": "code",
   "execution_count": null,
   "id": "0ee086df",
   "metadata": {},
   "outputs": [],
   "source": []
  }
 ],
 "metadata": {
  "kernelspec": {
   "display_name": "Python 3 (ipykernel)",
   "language": "python",
   "name": "python3"
  },
  "language_info": {
   "codemirror_mode": {
    "name": "ipython",
    "version": 3
   },
   "file_extension": ".py",
   "mimetype": "text/x-python",
   "name": "python",
   "nbconvert_exporter": "python",
   "pygments_lexer": "ipython3",
   "version": "3.9.13"
  }
 },
 "nbformat": 4,
 "nbformat_minor": 5
}
